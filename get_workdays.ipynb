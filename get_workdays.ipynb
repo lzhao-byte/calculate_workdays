{
 "cells": [
  {
   "cell_type": "markdown",
   "metadata": {},
   "source": [
    "# Generate workdays\n",
    "1. should have option to select different DTNA workdays\n",
    "2. should have option to choose multiple years\n",
    "3. should have option to select file to save the file"
   ]
  },
  {
   "cell_type": "code",
   "execution_count": null,
   "metadata": {},
   "outputs": [
    {
     "name": "stdout",
     "output_type": "stream",
     "text": [
      "2024-01-01 New Year's Day\n",
      "2024-05-27 Memorial Day\n",
      "2024-06-19 Juneteenth National Independence Day\n",
      "2024-07-04 Independence Day\n",
      "2024-09-02 Labor Day\n",
      "2024-11-11 Veterans Day\n",
      "2024-11-28 Thanksgiving\n",
      "2024-12-25 Christmas Day\n",
      "2024-01-15 Martin Luther King Jr. Day\n",
      "2024-02-19 Washington's Birthday\n",
      "2024-10-14 Columbus Day\n"
     ]
    }
   ],
   "source": [
    "from utils import *\n",
    "\n",
    "# count_dtna_workdays(year_range=2024, inclusive='left')\n",
    "\n",
    "# # holidays, workdays = count_dtna_workdays(2024, \n",
    "#                                         include_good_friday=False, \n",
    "#                                         include_juneteeth=False, \n",
    "#                                         include_veterans=False, \n",
    "#                                         christmas_shutdown=True, \n",
    "#                                         return_holidays=True)\n",
    "# display(holidays, workdays)"
   ]
  }
 ],
 "metadata": {
  "kernelspec": {
   "display_name": "data",
   "language": "python",
   "name": "python3"
  },
  "language_info": {
   "codemirror_mode": {
    "name": "ipython",
    "version": 3
   },
   "file_extension": ".py",
   "mimetype": "text/x-python",
   "name": "python",
   "nbconvert_exporter": "python",
   "pygments_lexer": "ipython3",
   "version": "3.8.8"
  }
 },
 "nbformat": 4,
 "nbformat_minor": 2
}
